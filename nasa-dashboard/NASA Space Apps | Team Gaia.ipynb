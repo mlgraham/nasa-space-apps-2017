{
 "cells": [
  {
   "cell_type": "markdown",
   "metadata": {},
   "source": [
    "## NASA Space Apps Challenge"
   ]
  },
  {
   "cell_type": "code",
   "execution_count": 1,
   "metadata": {},
   "outputs": [
    {
     "name": "stderr",
     "output_type": "stream",
     "text": [
      "/Users/michaelgraham/Projects/nasa-space-apps-2017/nasa-dashboard/lib/python2.7/site-packages/cesiumpy/util/html.py:14: UserWarning: Unable to read specified path, be sure to the output HTML can read the path: \n",
      "  warnings.warn(msg.format(sourceUri))\n"
     ]
    },
    {
     "data": {
      "text/html": [
       "<script src=\"https://cesiumjs.org/Cesium/Build/Cesium/Cesium.js\"></script>\n",
       "<link rel=\"stylesheet\" href=\"https://cesiumjs.org/Cesium/Build/Cesium/Widgets/widgets.css\" type=\"text/css\">\n",
       "<div id=\"container-4354685008\" style=\"width:100%; height:100%;\"><div>\n",
       "<script type=\"text/javascript\">\n",
       "  var widget = new Cesium.Viewer(\"container-4354685008\");\n",
       "  widget.entities.add({rectangle : {coordinates : Cesium.Rectangle.fromDegrees(-80.872454, 28.291119, -80.481066, 28.613499), material : new Cesium.ImageMaterialProperty({image : \"a0320213032.jpeg\"}), outline : true, outlineColor : Cesium.Color.RED, outlineWidth : 5.0}});\n",
       "  widget.dataSources.add(Cesium.CzmlDataSource.load(\"satellites.czml\"));\n",
       "  widget.zoomTo(widget.entities);\n",
       "</script>"
      ],
      "text/plain": [
       "<cesiumpy.viewer.Viewer at 0x103914b90>"
      ]
     },
     "execution_count": 1,
     "metadata": {},
     "output_type": "execute_result"
    }
   ],
   "source": [
    "import cesiumpy\n",
    "v = cesiumpy.Viewer()\n",
    "ds = cesiumpy.CzmlDataSource('satellites.czml')\n",
    "r = cesiumpy.Rectangle(coordinates=(-80.872454, 28.291119, -80.481066, 28.613499), material='a0320213032.jpeg', outline=True, outlineColor='RED', outlineWidth=5)\n",
    "v.entities.add(r)\n",
    "v.dataSources.add(ds)\n",
    "v"
   ]
  },
  {
   "cell_type": "code",
   "execution_count": null,
   "metadata": {
    "collapsed": true
   },
   "outputs": [],
   "source": []
  },
  {
   "cell_type": "code",
   "execution_count": null,
   "metadata": {
    "collapsed": true
   },
   "outputs": [],
   "source": []
  }
 ],
 "metadata": {
  "kernelspec": {
   "display_name": "Python 2",
   "language": "python",
   "name": "python2"
  },
  "language_info": {
   "codemirror_mode": {
    "name": "ipython",
    "version": 2
   },
   "file_extension": ".py",
   "mimetype": "text/x-python",
   "name": "python",
   "nbconvert_exporter": "python",
   "pygments_lexer": "ipython2",
   "version": "2.7.10"
  }
 },
 "nbformat": 4,
 "nbformat_minor": 2
}
